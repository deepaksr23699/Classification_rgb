{
 "cells": [
  {
   "cell_type": "markdown",
   "metadata": {},
   "source": [
    "Image Classification using Military Aircraft Dataset"
   ]
  },
  {
   "cell_type": "markdown",
   "metadata": {},
   "source": [
    "Loading & Verifying data"
   ]
  },
  {
   "cell_type": "code",
   "execution_count": 1,
   "metadata": {},
   "outputs": [],
   "source": [
    "import zipfile"
   ]
  },
  {
   "cell_type": "code",
   "execution_count": 2,
   "metadata": {},
   "outputs": [
    {
     "name": "stdout",
     "output_type": "stream",
     "text": [
      "Data extracted to /home/deepaksr/project/project_assignment1/data2\n"
     ]
    }
   ],
   "source": [
    "zip_path = \"/home/deepaksr/project/project_assignment1/acdata.zip\"\n",
    "folder_path = \"/home/deepaksr/project/project_assignment1/data2\"\n",
    "with zipfile.ZipFile(zip_path, 'r') as zip_ref:\n",
    "    zip_ref.extractall(folder_path)\n",
    "    \n",
    "print(f\"Data extracted to {folder_path}\")"
   ]
  },
  {
   "cell_type": "code",
   "execution_count": 2,
   "metadata": {},
   "outputs": [],
   "source": [
    "import os"
   ]
  },
  {
   "cell_type": "code",
   "execution_count": 3,
   "metadata": {},
   "outputs": [
    {
     "name": "stdout",
     "output_type": "stream",
     "text": [
      "Training Data:\n",
      "class: C390\n",
      "Images: 60\n",
      "\n",
      "class: KJ600\n",
      "Images: 30\n",
      "\n",
      "class: F117\n",
      "Images: 304\n",
      "\n",
      "class: J10\n",
      "Images: 548\n",
      "\n",
      "class: U2\n",
      "Images: 272\n",
      "\n",
      "class: C17\n",
      "Images: 523\n",
      "\n",
      "class: E7\n",
      "Images: 153\n",
      "\n",
      "class: A400M\n",
      "Images: 383\n",
      "\n",
      "class: A10\n",
      "Images: 578\n",
      "\n",
      "class: US2\n",
      "Images: 546\n",
      "\n",
      "class: Mirage2000\n",
      "Images: 413\n",
      "\n",
      "class: F16\n",
      "Images: 1489\n",
      "\n",
      "class: F14\n",
      "Images: 435\n",
      "\n",
      "class: KC135\n",
      "Images: 209\n",
      "\n",
      "class: J20\n",
      "Images: 606\n",
      "\n",
      "class: B2\n",
      "Images: 426\n",
      "\n",
      "class: XB70\n",
      "Images: 151\n",
      "\n",
      "class: Su57\n",
      "Images: 303\n",
      "\n",
      "class: JAS39\n",
      "Images: 482\n",
      "\n",
      "class: KF21\n",
      "Images: 85\n",
      "\n",
      "class: Su24\n",
      "Images: 284\n",
      "\n",
      "class: C5\n",
      "Images: 303\n",
      "\n",
      "class: WZ7\n",
      "Images: 70\n",
      "\n",
      "class: YF23\n",
      "Images: 118\n",
      "\n",
      "class: Be200\n",
      "Images: 220\n",
      "\n",
      "class: An72\n",
      "Images: 70\n",
      "\n",
      "class: P3\n",
      "Images: 278\n",
      "\n",
      "class: F35\n",
      "Images: 1136\n",
      "\n",
      "class: B21\n",
      "Images: 20\n",
      "\n",
      "class: F18\n",
      "Images: 1402\n",
      "\n",
      "class: JF17\n",
      "Images: 149\n",
      "\n",
      "class: MQ9\n",
      "Images: 306\n",
      "\n",
      "class: Tu95\n",
      "Images: 293\n",
      "\n",
      "class: Tornado\n",
      "Images: 398\n",
      "\n",
      "class: AV8B\n",
      "Images: 372\n",
      "\n",
      "class: B52\n",
      "Images: 460\n",
      "\n",
      "class: F4\n",
      "Images: 566\n",
      "\n",
      "class: F15\n",
      "Images: 1281\n",
      "\n",
      "class: TB2\n",
      "Images: 340\n",
      "\n",
      "class: AG600\n",
      "Images: 182\n",
      "\n",
      "class: RQ4\n",
      "Images: 243\n",
      "\n",
      "class: Su25\n",
      "Images: 259\n",
      "\n",
      "class: SR71\n",
      "Images: 234\n",
      "\n",
      "class: H6\n",
      "Images: 290\n",
      "\n",
      "class: C130\n",
      "Images: 970\n",
      "\n",
      "class: Tu160\n",
      "Images: 305\n",
      "\n",
      "class: Rafale\n",
      "Images: 565\n",
      "\n",
      "class: Tu22M\n",
      "Images: 256\n",
      "\n",
      "class: F22\n",
      "Images: 542\n",
      "\n",
      "class: Y20\n",
      "Images: 160\n",
      "\n",
      "class: Vulcan\n",
      "Images: 320\n",
      "\n",
      "class: B1\n",
      "Images: 522\n",
      "\n",
      "class: V22\n",
      "Images: 740\n",
      "\n",
      "class: E2\n",
      "Images: 382\n",
      "\n",
      "class: EF2000\n",
      "Images: 638\n",
      "\n",
      "class: JH7\n",
      "Images: 211\n",
      "\n",
      "class: C2\n",
      "Images: 729\n",
      "\n",
      "class: TB001\n",
      "Images: 66\n",
      "\n",
      "class: Mig31\n",
      "Images: 346\n",
      "\n",
      "class: Su34\n",
      "Images: 361\n",
      "\n",
      "Validation Data:\n",
      "class: C390\n",
      "Images: 10\n",
      "\n",
      "class: KJ600\n",
      "Images: 5\n",
      "\n",
      "class: F117\n",
      "Images: 30\n",
      "\n",
      "class: J10\n",
      "Images: 60\n",
      "\n",
      "class: U2\n",
      "Images: 20\n",
      "\n",
      "class: C17\n",
      "Images: 50\n",
      "\n",
      "class: E7\n",
      "Images: 10\n",
      "\n",
      "class: A400M\n",
      "Images: 50\n",
      "\n",
      "class: A10\n",
      "Images: 50\n",
      "\n",
      "class: US2\n",
      "Images: 40\n",
      "\n",
      "class: Mirage2000\n",
      "Images: 0\n",
      "\n",
      "class: F16\n",
      "Images: 100\n",
      "\n",
      "class: F14\n",
      "Images: 40\n",
      "\n",
      "class: KC135\n",
      "Images: 30\n",
      "\n",
      "class: J20\n",
      "Images: 60\n",
      "\n",
      "class: B2\n",
      "Images: 50\n",
      "\n",
      "class: XB70\n",
      "Images: 10\n",
      "\n",
      "class: Su57\n",
      "Images: 30\n",
      "\n",
      "class: JAS39\n",
      "Images: 50\n",
      "\n",
      "class: KF21\n",
      "Images: 10\n",
      "\n",
      "class: Su24\n",
      "Images: 30\n",
      "\n",
      "class: C5\n",
      "Images: 40\n",
      "\n",
      "class: WZ7\n",
      "Images: 5\n",
      "\n",
      "class: YF23\n",
      "Images: 10\n",
      "\n",
      "class: Be200\n",
      "Images: 40\n",
      "\n",
      "class: An72\n",
      "Images: 16\n",
      "\n",
      "class: P3\n",
      "Images: 30\n",
      "\n",
      "class: F35\n",
      "Images: 100\n",
      "\n",
      "class: B21\n",
      "Images: 4\n",
      "\n",
      "class: F18\n",
      "Images: 80\n",
      "\n",
      "class: JF17\n",
      "Images: 20\n",
      "\n",
      "class: MQ9\n",
      "Images: 30\n",
      "\n",
      "class: Tu95\n",
      "Images: 20\n",
      "\n",
      "class: Tornado\n",
      "Images: 30\n",
      "\n",
      "class: AV8B\n",
      "Images: 40\n",
      "\n",
      "class: B52\n",
      "Images: 50\n",
      "\n",
      "class: F4\n",
      "Images: 60\n",
      "\n",
      "class: F15\n",
      "Images: 80\n",
      "\n",
      "class: TB2\n",
      "Images: 30\n",
      "\n",
      "class: AG600\n",
      "Images: 40\n",
      "\n",
      "class: RQ4\n",
      "Images: 30\n",
      "\n",
      "class: Su25\n",
      "Images: 30\n",
      "\n",
      "class: SR71\n",
      "Images: 20\n",
      "\n",
      "class: H6\n",
      "Images: 30\n",
      "\n",
      "class: C130\n",
      "Images: 60\n",
      "\n",
      "class: Tu160\n",
      "Images: 30\n",
      "\n",
      "class: Rafale\n",
      "Images: 50\n",
      "\n",
      "class: Tu22M\n",
      "Images: 20\n",
      "\n",
      "class: F22\n",
      "Images: 50\n",
      "\n",
      "class: Y20\n",
      "Images: 10\n",
      "\n",
      "class: Vulcan\n",
      "Images: 30\n",
      "\n",
      "class: B1\n",
      "Images: 50\n",
      "\n",
      "class: V22\n",
      "Images: 60\n",
      "\n",
      "class: E2\n",
      "Images: 40\n",
      "\n",
      "class: EF2000\n",
      "Images: 60\n",
      "\n",
      "class: JH7\n",
      "Images: 20\n",
      "\n",
      "class: C2\n",
      "Images: 60\n",
      "\n",
      "class: TB001\n",
      "Images: 5\n",
      "\n",
      "class: Mig31\n",
      "Images: 30\n",
      "\n",
      "class: Su34\n",
      "Images: 30\n",
      "\n",
      "Test Data:\n",
      "class: C390\n",
      "Images: 8\n",
      "\n",
      "class: KJ600\n",
      "Images: 5\n",
      "\n",
      "class: F117\n",
      "Images: 20\n",
      "\n",
      "class: J10\n",
      "Images: 20\n",
      "\n",
      "class: U2\n",
      "Images: 10\n",
      "\n",
      "class: C17\n",
      "Images: 20\n",
      "\n",
      "class: E7\n",
      "Images: 10\n",
      "\n",
      "class: A400M\n",
      "Images: 20\n",
      "\n",
      "class: A10\n",
      "Images: 20\n",
      "\n",
      "class: US2\n",
      "Images: 20\n",
      "\n",
      "class: Mirage2000\n",
      "Images: 20\n",
      "\n",
      "class: F16\n",
      "Images: 20\n",
      "\n",
      "class: F14\n",
      "Images: 20\n",
      "\n",
      "class: KC135\n",
      "Images: 20\n",
      "\n",
      "class: J20\n",
      "Images: 20\n",
      "\n",
      "class: B2\n",
      "Images: 20\n",
      "\n",
      "class: XB70\n",
      "Images: 10\n",
      "\n",
      "class: Su57\n",
      "Images: 20\n",
      "\n",
      "class: JAS39\n",
      "Images: 20\n",
      "\n",
      "class: KF21\n",
      "Images: 10\n",
      "\n",
      "class: Su24\n",
      "Images: 20\n",
      "\n",
      "class: C5\n",
      "Images: 20\n",
      "\n",
      "class: WZ7\n",
      "Images: 5\n",
      "\n",
      "class: YF23\n",
      "Images: 5\n",
      "\n",
      "class: Be200\n",
      "Images: 14\n",
      "\n",
      "class: An72\n",
      "Images: 10\n",
      "\n",
      "class: P3\n",
      "Images: 20\n",
      "\n",
      "class: F35\n",
      "Images: 20\n",
      "\n",
      "class: B21\n",
      "Images: 4\n",
      "\n",
      "class: F18\n",
      "Images: 20\n",
      "\n",
      "class: JF17\n",
      "Images: 10\n",
      "\n",
      "class: MQ9\n",
      "Images: 20\n",
      "\n",
      "class: Tu95\n",
      "Images: 20\n",
      "\n",
      "class: Tornado\n",
      "Images: 20\n",
      "\n",
      "class: AV8B\n",
      "Images: 20\n",
      "\n",
      "class: B52\n",
      "Images: 20\n",
      "\n",
      "class: F4\n",
      "Images: 20\n",
      "\n",
      "class: F15\n",
      "Images: 20\n",
      "\n",
      "class: TB2\n",
      "Images: 20\n",
      "\n",
      "class: AG600\n",
      "Images: 20\n",
      "\n",
      "class: RQ4\n",
      "Images: 20\n",
      "\n",
      "class: Su25\n",
      "Images: 20\n",
      "\n",
      "class: SR71\n",
      "Images: 10\n",
      "\n",
      "class: H6\n",
      "Images: 20\n",
      "\n",
      "class: C130\n",
      "Images: 20\n",
      "\n",
      "class: Tu160\n",
      "Images: 20\n",
      "\n",
      "class: Rafale\n",
      "Images: 20\n",
      "\n",
      "class: Tu22M\n",
      "Images: 10\n",
      "\n",
      "class: F22\n",
      "Images: 20\n",
      "\n",
      "class: Y20\n",
      "Images: 10\n",
      "\n",
      "class: Vulcan\n",
      "Images: 20\n",
      "\n",
      "class: B1\n",
      "Images: 20\n",
      "\n",
      "class: V22\n",
      "Images: 20\n",
      "\n",
      "class: E2\n",
      "Images: 20\n",
      "\n",
      "class: EF2000\n",
      "Images: 20\n",
      "\n",
      "class: JH7\n",
      "Images: 10\n",
      "\n",
      "class: C2\n",
      "Images: 20\n",
      "\n",
      "class: TB001\n",
      "Images: 5\n",
      "\n",
      "class: Mig31\n",
      "Images: 20\n",
      "\n",
      "class: Su34\n",
      "Images: 20\n",
      "\n"
     ]
    }
   ],
   "source": [
    "train_path='/home/deepaksr/project/project_assignment1/data2/data2/train'\n",
    "valid_path='/home/deepaksr/project/project_assignment1/data2/data2/valid'\n",
    "test_path='/home/deepaksr/project/project_assignment1/data2/data2/test'\n",
    "def verify_data(folder):\n",
    "  for classes in os.listdir(folder):\n",
    "    class_path=os.path.join(folder,classes)\n",
    "    if os.path.isdir(class_path):\n",
    "      images = [i for i in os.listdir(class_path) if os.path.isfile(os.path.join(class_path,i))]\n",
    "      counter = sum(1 for image in images if image.lower().endswith('.jpg'))\n",
    "      print(f'class: {classes}')\n",
    "      print(f'Images: {counter}\\n')\n",
    "\n",
    "print('Training Data:')\n",
    "verify_data(train_path)\n",
    "print('Validation Data:')\n",
    "verify_data(valid_path)\n",
    "print('Test Data:')\n",
    "verify_data(test_path)"
   ]
  },
  {
   "cell_type": "markdown",
   "metadata": {},
   "source": [
    "Data Augmentation using ImageDataGenerator & Data Generator using flow_from_directory \n",
    "(https://www.tensorflow.org/api_docs/python/tf/keras/preprocessing/image/ImageDataGenerator#flow_from_directory)"
   ]
  },
  {
   "cell_type": "code",
   "execution_count": 4,
   "metadata": {},
   "outputs": [
    {
     "name": "stderr",
     "output_type": "stream",
     "text": [
      "2024-09-02 17:26:22.230664: E external/local_xla/xla/stream_executor/cuda/cuda_fft.cc:485] Unable to register cuFFT factory: Attempting to register factory for plugin cuFFT when one has already been registered\n",
      "2024-09-02 17:26:22.254556: E external/local_xla/xla/stream_executor/cuda/cuda_dnn.cc:8454] Unable to register cuDNN factory: Attempting to register factory for plugin cuDNN when one has already been registered\n",
      "2024-09-02 17:26:22.261548: E external/local_xla/xla/stream_executor/cuda/cuda_blas.cc:1452] Unable to register cuBLAS factory: Attempting to register factory for plugin cuBLAS when one has already been registered\n",
      "2024-09-02 17:26:22.278102: I tensorflow/core/platform/cpu_feature_guard.cc:210] This TensorFlow binary is optimized to use available CPU instructions in performance-critical operations.\n",
      "To enable the following instructions: AVX2 AVX512F FMA, in other operations, rebuild TensorFlow with the appropriate compiler flags.\n",
      "2024-09-02 17:26:23.295262: W tensorflow/compiler/tf2tensorrt/utils/py_utils.cc:38] TF-TRT Warning: Could not find TensorRT\n"
     ]
    }
   ],
   "source": [
    "import keras # type: ignore\n",
    "import tensorflow as tf # type: ignore\n",
    "from tensorflow.keras.preprocessing.image import ImageDataGenerator # type: ignore"
   ]
  },
  {
   "cell_type": "code",
   "execution_count": 5,
   "metadata": {},
   "outputs": [
    {
     "name": "stdout",
     "output_type": "stream",
     "text": [
      "Found 24383 images belonging to 60 classes.\n",
      "Found 2175 images belonging to 60 classes.\n",
      "Found 1006 images belonging to 60 classes.\n",
      "{'A10': 0, 'A400M': 1, 'AG600': 2, 'AV8B': 3, 'An72': 4, 'B1': 5, 'B2': 6, 'B21': 7, 'B52': 8, 'Be200': 9, 'C130': 10, 'C17': 11, 'C2': 12, 'C390': 13, 'C5': 14, 'E2': 15, 'E7': 16, 'EF2000': 17, 'F117': 18, 'F14': 19, 'F15': 20, 'F16': 21, 'F18': 22, 'F22': 23, 'F35': 24, 'F4': 25, 'H6': 26, 'J10': 27, 'J20': 28, 'JAS39': 29, 'JF17': 30, 'JH7': 31, 'KC135': 32, 'KF21': 33, 'KJ600': 34, 'MQ9': 35, 'Mig31': 36, 'Mirage2000': 37, 'P3': 38, 'RQ4': 39, 'Rafale': 40, 'SR71': 41, 'Su24': 42, 'Su25': 43, 'Su34': 44, 'Su57': 45, 'TB001': 46, 'TB2': 47, 'Tornado': 48, 'Tu160': 49, 'Tu22M': 50, 'Tu95': 51, 'U2': 52, 'US2': 53, 'V22': 54, 'Vulcan': 55, 'WZ7': 56, 'XB70': 57, 'Y20': 58, 'YF23': 59}\n",
      "24383\n",
      "{'A10': 0, 'A400M': 1, 'AG600': 2, 'AV8B': 3, 'An72': 4, 'B1': 5, 'B2': 6, 'B21': 7, 'B52': 8, 'Be200': 9, 'C130': 10, 'C17': 11, 'C2': 12, 'C390': 13, 'C5': 14, 'E2': 15, 'E7': 16, 'EF2000': 17, 'F117': 18, 'F14': 19, 'F15': 20, 'F16': 21, 'F18': 22, 'F22': 23, 'F35': 24, 'F4': 25, 'H6': 26, 'J10': 27, 'J20': 28, 'JAS39': 29, 'JF17': 30, 'JH7': 31, 'KC135': 32, 'KF21': 33, 'KJ600': 34, 'MQ9': 35, 'Mig31': 36, 'Mirage2000': 37, 'P3': 38, 'RQ4': 39, 'Rafale': 40, 'SR71': 41, 'Su24': 42, 'Su25': 43, 'Su34': 44, 'Su57': 45, 'TB001': 46, 'TB2': 47, 'Tornado': 48, 'Tu160': 49, 'Tu22M': 50, 'Tu95': 51, 'U2': 52, 'US2': 53, 'V22': 54, 'Vulcan': 55, 'WZ7': 56, 'XB70': 57, 'Y20': 58, 'YF23': 59}\n",
      "2175\n",
      "{'A10': 0, 'A400M': 1, 'AG600': 2, 'AV8B': 3, 'An72': 4, 'B1': 5, 'B2': 6, 'B21': 7, 'B52': 8, 'Be200': 9, 'C130': 10, 'C17': 11, 'C2': 12, 'C390': 13, 'C5': 14, 'E2': 15, 'E7': 16, 'EF2000': 17, 'F117': 18, 'F14': 19, 'F15': 20, 'F16': 21, 'F18': 22, 'F22': 23, 'F35': 24, 'F4': 25, 'H6': 26, 'J10': 27, 'J20': 28, 'JAS39': 29, 'JF17': 30, 'JH7': 31, 'KC135': 32, 'KF21': 33, 'KJ600': 34, 'MQ9': 35, 'Mig31': 36, 'Mirage2000': 37, 'P3': 38, 'RQ4': 39, 'Rafale': 40, 'SR71': 41, 'Su24': 42, 'Su25': 43, 'Su34': 44, 'Su57': 45, 'TB001': 46, 'TB2': 47, 'Tornado': 48, 'Tu160': 49, 'Tu22M': 50, 'Tu95': 51, 'U2': 52, 'US2': 53, 'V22': 54, 'Vulcan': 55, 'WZ7': 56, 'XB70': 57, 'Y20': 58, 'YF23': 59}\n",
      "1006\n"
     ]
    }
   ],
   "source": [
    "datagen= ImageDataGenerator(rotation_range=10,width_shift_range=0.05,height_shift_range=0.05,\n",
    "                            horizontal_flip=True, rescale=1.0/255)\n",
    "train_generator = datagen.flow_from_directory(directory=train_path,\n",
    "                                            target_size=(300,300),\n",
    "                                            class_mode='categorical',\n",
    "                                            batch_size=32,\n",
    "                                            shuffle=True)\n",
    "val_generator = datagen.flow_from_directory(directory=valid_path,\n",
    "                                            target_size=(300,300),\n",
    "                                            class_mode='categorical',\n",
    "                                            batch_size=32,\n",
    "                                            shuffle=True)\n",
    "test_generator = datagen.flow_from_directory(directory=test_path,\n",
    "                                            target_size=(300,300),\n",
    "                                            class_mode='categorical',\n",
    "                                            batch_size=32,\n",
    "                                            shuffle=False)\n",
    "\n",
    "print(train_generator.class_indices)\n",
    "print(train_generator.samples)\n",
    "print(val_generator.class_indices)\n",
    "print(val_generator.samples)\n",
    "print(test_generator.class_indices)\n",
    "print(test_generator.samples)"
   ]
  },
  {
   "cell_type": "code",
   "execution_count": 9,
   "metadata": {},
   "outputs": [
    {
     "name": "stdout",
     "output_type": "stream",
     "text": [
      "Training batch shape: (32, 300, 300, 3), Labels shape: (32, 60)\n",
      "Validation batch shape: (32, 300, 300, 3), Labels shape: (32, 60)\n",
      "Test batch shape: (32, 300, 300, 3), Labels shape: (32, 60)\n"
     ]
    }
   ],
   "source": [
    "x_train_batch, y_train_batch = next(train_generator)\n",
    "x_valid_batch, y_valid_batch = next(val_generator)\n",
    "x_test_batch, y_test_batch = next(test_generator)\n",
    "\n",
    "print(f\"Training batch shape: {x_train_batch.shape}, Labels shape: {y_train_batch.shape}\")\n",
    "print(f\"Validation batch shape: {x_valid_batch.shape}, Labels shape: {y_valid_batch.shape}\")\n",
    "print(f\"Test batch shape: {x_test_batch.shape}, Labels shape: {y_test_batch.shape}\")"
   ]
  },
  {
   "cell_type": "markdown",
   "metadata": {},
   "source": [
    "Define the CNN using keras.models & keras.layers"
   ]
  },
  {
   "cell_type": "code",
   "execution_count": 6,
   "metadata": {},
   "outputs": [],
   "source": [
    "from tensorflow.keras.models import Sequential # type: ignore\n",
    "from tensorflow.keras.layers import Conv2D, MaxPooling2D, Flatten, Dense, Dropout # type: ignore\n",
    "from tensorflow.keras.optimizers import Adam # type: ignore\n",
    "from tensorflow.keras.utils import plot_model # type: ignore"
   ]
  },
  {
   "cell_type": "code",
   "execution_count": 7,
   "metadata": {},
   "outputs": [],
   "source": [
    "def get_model():\n",
    "  net = Sequential()\n",
    "  net.add(Conv2D(32,(3,3), activation = 'relu', padding='same', input_shape=(300,300,3)))\n",
    "  net.add(MaxPooling2D((2,2)))\n",
    "  net.add(Conv2D(128,(3,3), activation='relu', padding='same'))\n",
    "  net.add(MaxPooling2D((2,2)))\n",
    "  net.add(Dropout(0.25))\n",
    "  net.add(Flatten())\n",
    "  net.add(Dense(512, activation='relu'))\n",
    "  net.add(Dense(256, activation='relu'))\n",
    "  net.add(Dropout(0.25))\n",
    "  net.add(Dense(60, activation='softmax'))\n",
    "  net.compile(optimizer=Adam(), loss='categorical_crossentropy', metrics=['accuracy'])\n",
    "  return net"
   ]
  },
  {
   "cell_type": "markdown",
   "metadata": {},
   "source": [
    "Plotting & visualising the Network"
   ]
  },
  {
   "cell_type": "code",
   "execution_count": 8,
   "metadata": {},
   "outputs": [
    {
     "name": "stderr",
     "output_type": "stream",
     "text": [
      "/home/deepaksr/miniconda3/envs/cnn/lib/python3.12/site-packages/keras/src/layers/convolutional/base_conv.py:107: UserWarning: Do not pass an `input_shape`/`input_dim` argument to a layer. When using Sequential models, prefer using an `Input(shape)` object as the first layer in the model instead.\n",
      "  super().__init__(activity_regularizer=activity_regularizer, **kwargs)\n",
      "2024-09-02 17:26:30.445459: I tensorflow/core/common_runtime/gpu/gpu_device.cc:2021] Created device /job:localhost/replica:0/task:0/device:GPU:0 with 9798 MB memory:  -> device: 0, name: NVIDIA GeForce RTX 2080 Ti, pci bus id: 0000:18:00.0, compute capability: 7.5\n"
     ]
    },
    {
     "data": {
      "text/html": [
       "<pre style=\"white-space:pre;overflow-x:auto;line-height:normal;font-family:Menlo,'DejaVu Sans Mono',consolas,'Courier New',monospace\"><span style=\"font-weight: bold\">Model: \"sequential\"</span>\n",
       "</pre>\n"
      ],
      "text/plain": [
       "\u001b[1mModel: \"sequential\"\u001b[0m\n"
      ]
     },
     "metadata": {},
     "output_type": "display_data"
    },
    {
     "data": {
      "text/html": [
       "<pre style=\"white-space:pre;overflow-x:auto;line-height:normal;font-family:Menlo,'DejaVu Sans Mono',consolas,'Courier New',monospace\">┏━━━━━━━━━━━━━━━━━━━━━━━━━━━━━━━━━┳━━━━━━━━━━━━━━━━━━━━━━━━┳━━━━━━━━━━━━━━━┓\n",
       "┃<span style=\"font-weight: bold\"> Layer (type)                    </span>┃<span style=\"font-weight: bold\"> Output Shape           </span>┃<span style=\"font-weight: bold\">       Param # </span>┃\n",
       "┡━━━━━━━━━━━━━━━━━━━━━━━━━━━━━━━━━╇━━━━━━━━━━━━━━━━━━━━━━━━╇━━━━━━━━━━━━━━━┩\n",
       "│ conv2d (<span style=\"color: #0087ff; text-decoration-color: #0087ff\">Conv2D</span>)                 │ (<span style=\"color: #00d7ff; text-decoration-color: #00d7ff\">None</span>, <span style=\"color: #00af00; text-decoration-color: #00af00\">300</span>, <span style=\"color: #00af00; text-decoration-color: #00af00\">300</span>, <span style=\"color: #00af00; text-decoration-color: #00af00\">32</span>)   │           <span style=\"color: #00af00; text-decoration-color: #00af00\">896</span> │\n",
       "├─────────────────────────────────┼────────────────────────┼───────────────┤\n",
       "│ max_pooling2d (<span style=\"color: #0087ff; text-decoration-color: #0087ff\">MaxPooling2D</span>)    │ (<span style=\"color: #00d7ff; text-decoration-color: #00d7ff\">None</span>, <span style=\"color: #00af00; text-decoration-color: #00af00\">150</span>, <span style=\"color: #00af00; text-decoration-color: #00af00\">150</span>, <span style=\"color: #00af00; text-decoration-color: #00af00\">32</span>)   │             <span style=\"color: #00af00; text-decoration-color: #00af00\">0</span> │\n",
       "├─────────────────────────────────┼────────────────────────┼───────────────┤\n",
       "│ conv2d_1 (<span style=\"color: #0087ff; text-decoration-color: #0087ff\">Conv2D</span>)               │ (<span style=\"color: #00d7ff; text-decoration-color: #00d7ff\">None</span>, <span style=\"color: #00af00; text-decoration-color: #00af00\">150</span>, <span style=\"color: #00af00; text-decoration-color: #00af00\">150</span>, <span style=\"color: #00af00; text-decoration-color: #00af00\">128</span>)  │        <span style=\"color: #00af00; text-decoration-color: #00af00\">36,992</span> │\n",
       "├─────────────────────────────────┼────────────────────────┼───────────────┤\n",
       "│ max_pooling2d_1 (<span style=\"color: #0087ff; text-decoration-color: #0087ff\">MaxPooling2D</span>)  │ (<span style=\"color: #00d7ff; text-decoration-color: #00d7ff\">None</span>, <span style=\"color: #00af00; text-decoration-color: #00af00\">75</span>, <span style=\"color: #00af00; text-decoration-color: #00af00\">75</span>, <span style=\"color: #00af00; text-decoration-color: #00af00\">128</span>)    │             <span style=\"color: #00af00; text-decoration-color: #00af00\">0</span> │\n",
       "├─────────────────────────────────┼────────────────────────┼───────────────┤\n",
       "│ dropout (<span style=\"color: #0087ff; text-decoration-color: #0087ff\">Dropout</span>)               │ (<span style=\"color: #00d7ff; text-decoration-color: #00d7ff\">None</span>, <span style=\"color: #00af00; text-decoration-color: #00af00\">75</span>, <span style=\"color: #00af00; text-decoration-color: #00af00\">75</span>, <span style=\"color: #00af00; text-decoration-color: #00af00\">128</span>)    │             <span style=\"color: #00af00; text-decoration-color: #00af00\">0</span> │\n",
       "├─────────────────────────────────┼────────────────────────┼───────────────┤\n",
       "│ flatten (<span style=\"color: #0087ff; text-decoration-color: #0087ff\">Flatten</span>)               │ (<span style=\"color: #00d7ff; text-decoration-color: #00d7ff\">None</span>, <span style=\"color: #00af00; text-decoration-color: #00af00\">720000</span>)         │             <span style=\"color: #00af00; text-decoration-color: #00af00\">0</span> │\n",
       "├─────────────────────────────────┼────────────────────────┼───────────────┤\n",
       "│ dense (<span style=\"color: #0087ff; text-decoration-color: #0087ff\">Dense</span>)                   │ (<span style=\"color: #00d7ff; text-decoration-color: #00d7ff\">None</span>, <span style=\"color: #00af00; text-decoration-color: #00af00\">512</span>)            │   <span style=\"color: #00af00; text-decoration-color: #00af00\">368,640,512</span> │\n",
       "├─────────────────────────────────┼────────────────────────┼───────────────┤\n",
       "│ dense_1 (<span style=\"color: #0087ff; text-decoration-color: #0087ff\">Dense</span>)                 │ (<span style=\"color: #00d7ff; text-decoration-color: #00d7ff\">None</span>, <span style=\"color: #00af00; text-decoration-color: #00af00\">256</span>)            │       <span style=\"color: #00af00; text-decoration-color: #00af00\">131,328</span> │\n",
       "├─────────────────────────────────┼────────────────────────┼───────────────┤\n",
       "│ dropout_1 (<span style=\"color: #0087ff; text-decoration-color: #0087ff\">Dropout</span>)             │ (<span style=\"color: #00d7ff; text-decoration-color: #00d7ff\">None</span>, <span style=\"color: #00af00; text-decoration-color: #00af00\">256</span>)            │             <span style=\"color: #00af00; text-decoration-color: #00af00\">0</span> │\n",
       "├─────────────────────────────────┼────────────────────────┼───────────────┤\n",
       "│ dense_2 (<span style=\"color: #0087ff; text-decoration-color: #0087ff\">Dense</span>)                 │ (<span style=\"color: #00d7ff; text-decoration-color: #00d7ff\">None</span>, <span style=\"color: #00af00; text-decoration-color: #00af00\">60</span>)             │        <span style=\"color: #00af00; text-decoration-color: #00af00\">15,420</span> │\n",
       "└─────────────────────────────────┴────────────────────────┴───────────────┘\n",
       "</pre>\n"
      ],
      "text/plain": [
       "┏━━━━━━━━━━━━━━━━━━━━━━━━━━━━━━━━━┳━━━━━━━━━━━━━━━━━━━━━━━━┳━━━━━━━━━━━━━━━┓\n",
       "┃\u001b[1m \u001b[0m\u001b[1mLayer (type)                   \u001b[0m\u001b[1m \u001b[0m┃\u001b[1m \u001b[0m\u001b[1mOutput Shape          \u001b[0m\u001b[1m \u001b[0m┃\u001b[1m \u001b[0m\u001b[1m      Param #\u001b[0m\u001b[1m \u001b[0m┃\n",
       "┡━━━━━━━━━━━━━━━━━━━━━━━━━━━━━━━━━╇━━━━━━━━━━━━━━━━━━━━━━━━╇━━━━━━━━━━━━━━━┩\n",
       "│ conv2d (\u001b[38;5;33mConv2D\u001b[0m)                 │ (\u001b[38;5;45mNone\u001b[0m, \u001b[38;5;34m300\u001b[0m, \u001b[38;5;34m300\u001b[0m, \u001b[38;5;34m32\u001b[0m)   │           \u001b[38;5;34m896\u001b[0m │\n",
       "├─────────────────────────────────┼────────────────────────┼───────────────┤\n",
       "│ max_pooling2d (\u001b[38;5;33mMaxPooling2D\u001b[0m)    │ (\u001b[38;5;45mNone\u001b[0m, \u001b[38;5;34m150\u001b[0m, \u001b[38;5;34m150\u001b[0m, \u001b[38;5;34m32\u001b[0m)   │             \u001b[38;5;34m0\u001b[0m │\n",
       "├─────────────────────────────────┼────────────────────────┼───────────────┤\n",
       "│ conv2d_1 (\u001b[38;5;33mConv2D\u001b[0m)               │ (\u001b[38;5;45mNone\u001b[0m, \u001b[38;5;34m150\u001b[0m, \u001b[38;5;34m150\u001b[0m, \u001b[38;5;34m128\u001b[0m)  │        \u001b[38;5;34m36,992\u001b[0m │\n",
       "├─────────────────────────────────┼────────────────────────┼───────────────┤\n",
       "│ max_pooling2d_1 (\u001b[38;5;33mMaxPooling2D\u001b[0m)  │ (\u001b[38;5;45mNone\u001b[0m, \u001b[38;5;34m75\u001b[0m, \u001b[38;5;34m75\u001b[0m, \u001b[38;5;34m128\u001b[0m)    │             \u001b[38;5;34m0\u001b[0m │\n",
       "├─────────────────────────────────┼────────────────────────┼───────────────┤\n",
       "│ dropout (\u001b[38;5;33mDropout\u001b[0m)               │ (\u001b[38;5;45mNone\u001b[0m, \u001b[38;5;34m75\u001b[0m, \u001b[38;5;34m75\u001b[0m, \u001b[38;5;34m128\u001b[0m)    │             \u001b[38;5;34m0\u001b[0m │\n",
       "├─────────────────────────────────┼────────────────────────┼───────────────┤\n",
       "│ flatten (\u001b[38;5;33mFlatten\u001b[0m)               │ (\u001b[38;5;45mNone\u001b[0m, \u001b[38;5;34m720000\u001b[0m)         │             \u001b[38;5;34m0\u001b[0m │\n",
       "├─────────────────────────────────┼────────────────────────┼───────────────┤\n",
       "│ dense (\u001b[38;5;33mDense\u001b[0m)                   │ (\u001b[38;5;45mNone\u001b[0m, \u001b[38;5;34m512\u001b[0m)            │   \u001b[38;5;34m368,640,512\u001b[0m │\n",
       "├─────────────────────────────────┼────────────────────────┼───────────────┤\n",
       "│ dense_1 (\u001b[38;5;33mDense\u001b[0m)                 │ (\u001b[38;5;45mNone\u001b[0m, \u001b[38;5;34m256\u001b[0m)            │       \u001b[38;5;34m131,328\u001b[0m │\n",
       "├─────────────────────────────────┼────────────────────────┼───────────────┤\n",
       "│ dropout_1 (\u001b[38;5;33mDropout\u001b[0m)             │ (\u001b[38;5;45mNone\u001b[0m, \u001b[38;5;34m256\u001b[0m)            │             \u001b[38;5;34m0\u001b[0m │\n",
       "├─────────────────────────────────┼────────────────────────┼───────────────┤\n",
       "│ dense_2 (\u001b[38;5;33mDense\u001b[0m)                 │ (\u001b[38;5;45mNone\u001b[0m, \u001b[38;5;34m60\u001b[0m)             │        \u001b[38;5;34m15,420\u001b[0m │\n",
       "└─────────────────────────────────┴────────────────────────┴───────────────┘\n"
      ]
     },
     "metadata": {},
     "output_type": "display_data"
    },
    {
     "data": {
      "text/html": [
       "<pre style=\"white-space:pre;overflow-x:auto;line-height:normal;font-family:Menlo,'DejaVu Sans Mono',consolas,'Courier New',monospace\"><span style=\"font-weight: bold\"> Total params: </span><span style=\"color: #00af00; text-decoration-color: #00af00\">368,825,148</span> (1.37 GB)\n",
       "</pre>\n"
      ],
      "text/plain": [
       "\u001b[1m Total params: \u001b[0m\u001b[38;5;34m368,825,148\u001b[0m (1.37 GB)\n"
      ]
     },
     "metadata": {},
     "output_type": "display_data"
    },
    {
     "data": {
      "text/html": [
       "<pre style=\"white-space:pre;overflow-x:auto;line-height:normal;font-family:Menlo,'DejaVu Sans Mono',consolas,'Courier New',monospace\"><span style=\"font-weight: bold\"> Trainable params: </span><span style=\"color: #00af00; text-decoration-color: #00af00\">368,825,148</span> (1.37 GB)\n",
       "</pre>\n"
      ],
      "text/plain": [
       "\u001b[1m Trainable params: \u001b[0m\u001b[38;5;34m368,825,148\u001b[0m (1.37 GB)\n"
      ]
     },
     "metadata": {},
     "output_type": "display_data"
    },
    {
     "data": {
      "text/html": [
       "<pre style=\"white-space:pre;overflow-x:auto;line-height:normal;font-family:Menlo,'DejaVu Sans Mono',consolas,'Courier New',monospace\"><span style=\"font-weight: bold\"> Non-trainable params: </span><span style=\"color: #00af00; text-decoration-color: #00af00\">0</span> (0.00 B)\n",
       "</pre>\n"
      ],
      "text/plain": [
       "\u001b[1m Non-trainable params: \u001b[0m\u001b[38;5;34m0\u001b[0m (0.00 B)\n"
      ]
     },
     "metadata": {},
     "output_type": "display_data"
    }
   ],
   "source": [
    "model=get_model()\n",
    "model.summary()"
   ]
  },
  {
   "cell_type": "code",
   "execution_count": 9,
   "metadata": {},
   "outputs": [
    {
     "name": "stdout",
     "output_type": "stream",
     "text": [
      "Epoch 1/25\n"
     ]
    },
    {
     "name": "stderr",
     "output_type": "stream",
     "text": [
      "/home/deepaksr/miniconda3/envs/cnn/lib/python3.12/site-packages/keras/src/trainers/data_adapters/py_dataset_adapter.py:122: UserWarning: Your `PyDataset` class should call `super().__init__(**kwargs)` in its constructor. `**kwargs` can include `workers`, `use_multiprocessing`, `max_queue_size`. Do not pass these arguments to `fit()`, as they will be ignored.\n",
      "  self._warn_if_super_not_called()\n",
      "WARNING: All log messages before absl::InitializeLog() is called are written to STDERR\n",
      "I0000 00:00:1725200829.982190 2304907 service.cc:146] XLA service 0x7fa47c00c6e0 initialized for platform CUDA (this does not guarantee that XLA will be used). Devices:\n",
      "I0000 00:00:1725200829.982266 2304907 service.cc:154]   StreamExecutor device (0): NVIDIA GeForce RTX 2080 Ti, Compute Capability 7.5\n",
      "2024-09-01 19:57:10.036346: I tensorflow/compiler/mlir/tensorflow/utils/dump_mlir_util.cc:268] disabling MLIR crash reproducer, set env var `MLIR_CRASH_REPRODUCER_DIRECTORY` to enable.\n",
      "2024-09-01 19:57:10.316169: I external/local_xla/xla/stream_executor/cuda/cuda_dnn.cc:531] Loaded cuDNN version 8907\n",
      "2024-09-01 19:57:15.123321: W external/local_xla/xla/service/hlo_rematerialization.cc:3005] Can't reduce memory use below 4.23GiB (4537813569 bytes) by rematerialization; only reduced to 5.69GiB (6108624176 bytes), down from 6.13GiB (6581249472 bytes) originally\n",
      "2024-09-01 19:57:15.219291: W external/local_xla/xla/service/gpu/nvptx_compiler.cc:762] The NVIDIA driver's CUDA version is 12.2 which is older than the ptxas CUDA version (12.3.107). Because the driver is older than the ptxas version, XLA is disabling parallel compilation, which may slow down compilation. You should update your NVIDIA driver or use the NVIDIA-provided CUDA forward compatibility packages.\n"
     ]
    },
    {
     "name": "stdout",
     "output_type": "stream",
     "text": [
      "\u001b[1m  1/762\u001b[0m \u001b[37m━━━━━━━━━━━━━━━━━━━━\u001b[0m \u001b[1m3:08:32\u001b[0m 15s/step - accuracy: 0.0000e+00 - loss: 4.0787"
     ]
    },
    {
     "name": "stderr",
     "output_type": "stream",
     "text": [
      "I0000 00:00:1725200836.469282 2304907 device_compiler.h:188] Compiled cluster using XLA!  This line is logged at most once for the lifetime of the process.\n"
     ]
    },
    {
     "name": "stdout",
     "output_type": "stream",
     "text": [
      "\u001b[1m 89/762\u001b[0m \u001b[32m━━\u001b[0m\u001b[37m━━━━━━━━━━━━━━━━━━\u001b[0m \u001b[1m7:48\u001b[0m 695ms/step - accuracy: 0.0408 - loss: 9.5907"
     ]
    },
    {
     "name": "stderr",
     "output_type": "stream",
     "text": [
      "2024-09-01 19:58:19.583703: W external/local_tsl/tsl/framework/bfc_allocator.cc:291] Allocator (GPU_0_bfc) ran out of memory trying to allocate 3.98GiB with freed_by_count=0. The caller indicates that this is not a failure, but this may mean that there could be performance gains if more memory were available.\n",
      "2024-09-01 19:58:20.123213: W external/local_tsl/tsl/framework/bfc_allocator.cc:291] Allocator (GPU_0_bfc) ran out of memory trying to allocate 2.79GiB with freed_by_count=0. The caller indicates that this is not a failure, but this may mean that there could be performance gains if more memory were available.\n",
      "2024-09-01 19:58:22.685918: W external/local_xla/xla/service/hlo_rematerialization.cc:3005] Can't reduce memory use below 4.23GiB (4538839797 bytes) by rematerialization; only reduced to 5.64GiB (6055512272 bytes), down from 6.07GiB (6513377568 bytes) originally\n"
     ]
    },
    {
     "name": "stdout",
     "output_type": "stream",
     "text": [
      "\u001b[1m762/762\u001b[0m \u001b[32m━━━━━━━━━━━━━━━━━━━━\u001b[0m\u001b[37m\u001b[0m \u001b[1m580s\u001b[0m 742ms/step - accuracy: 0.0555 - loss: 4.9479 - val_accuracy: 0.0460 - val_loss: 3.8946\n",
      "Epoch 2/25\n",
      "\u001b[1m762/762\u001b[0m \u001b[32m━━━━━━━━━━━━━━━━━━━━\u001b[0m\u001b[37m\u001b[0m \u001b[1m550s\u001b[0m 715ms/step - accuracy: 0.0770 - loss: 3.7271 - val_accuracy: 0.0975 - val_loss: 3.6653\n",
      "Epoch 3/25\n",
      "\u001b[1m762/762\u001b[0m \u001b[32m━━━━━━━━━━━━━━━━━━━━\u001b[0m\u001b[37m\u001b[0m \u001b[1m550s\u001b[0m 716ms/step - accuracy: 0.1327 - loss: 3.4908 - val_accuracy: 0.1034 - val_loss: 3.6220\n",
      "Epoch 4/25\n",
      "\u001b[1m762/762\u001b[0m \u001b[32m━━━━━━━━━━━━━━━━━━━━\u001b[0m\u001b[37m\u001b[0m \u001b[1m547s\u001b[0m 711ms/step - accuracy: 0.1625 - loss: 3.3461 - val_accuracy: 0.1393 - val_loss: 3.5238\n",
      "Epoch 5/25\n",
      "\u001b[1m762/762\u001b[0m \u001b[32m━━━━━━━━━━━━━━━━━━━━\u001b[0m\u001b[37m\u001b[0m \u001b[1m548s\u001b[0m 714ms/step - accuracy: 0.2085 - loss: 3.1537 - val_accuracy: 0.1752 - val_loss: 3.3263\n",
      "Epoch 6/25\n",
      "\u001b[1m762/762\u001b[0m \u001b[32m━━━━━━━━━━━━━━━━━━━━\u001b[0m\u001b[37m\u001b[0m \u001b[1m568s\u001b[0m 739ms/step - accuracy: 0.2333 - loss: 3.0304 - val_accuracy: 0.1885 - val_loss: 3.2592\n",
      "Epoch 7/25\n",
      "\u001b[1m762/762\u001b[0m \u001b[32m━━━━━━━━━━━━━━━━━━━━\u001b[0m\u001b[37m\u001b[0m \u001b[1m560s\u001b[0m 728ms/step - accuracy: 0.2614 - loss: 2.8778 - val_accuracy: 0.2064 - val_loss: 3.2317\n",
      "Epoch 8/25\n",
      "\u001b[1m762/762\u001b[0m \u001b[32m━━━━━━━━━━━━━━━━━━━━\u001b[0m\u001b[37m\u001b[0m \u001b[1m572s\u001b[0m 744ms/step - accuracy: 0.2785 - loss: 2.7948 - val_accuracy: 0.2257 - val_loss: 3.1229\n",
      "Epoch 9/25\n",
      "\u001b[1m762/762\u001b[0m \u001b[32m━━━━━━━━━━━━━━━━━━━━\u001b[0m\u001b[37m\u001b[0m \u001b[1m564s\u001b[0m 734ms/step - accuracy: 0.3189 - loss: 2.6391 - val_accuracy: 0.2207 - val_loss: 3.1418\n",
      "Epoch 10/25\n",
      "\u001b[1m762/762\u001b[0m \u001b[32m━━━━━━━━━━━━━━━━━━━━\u001b[0m\u001b[37m\u001b[0m \u001b[1m566s\u001b[0m 736ms/step - accuracy: 0.3302 - loss: 2.5715 - val_accuracy: 0.2313 - val_loss: 3.1174\n",
      "Epoch 11/25\n",
      "\u001b[1m762/762\u001b[0m \u001b[32m━━━━━━━━━━━━━━━━━━━━\u001b[0m\u001b[37m\u001b[0m \u001b[1m568s\u001b[0m 739ms/step - accuracy: 0.3478 - loss: 2.5156 - val_accuracy: 0.2520 - val_loss: 3.0406\n",
      "Epoch 12/25\n",
      "\u001b[1m762/762\u001b[0m \u001b[32m━━━━━━━━━━━━━━━━━━━━\u001b[0m\u001b[37m\u001b[0m \u001b[1m562s\u001b[0m 731ms/step - accuracy: 0.3740 - loss: 2.3933 - val_accuracy: 0.2506 - val_loss: 3.0405\n",
      "Epoch 13/25\n",
      "\u001b[1m762/762\u001b[0m \u001b[32m━━━━━━━━━━━━━━━━━━━━\u001b[0m\u001b[37m\u001b[0m \u001b[1m567s\u001b[0m 738ms/step - accuracy: 0.3838 - loss: 2.3407 - val_accuracy: 0.2713 - val_loss: 2.9843\n",
      "Epoch 14/25\n",
      "\u001b[1m762/762\u001b[0m \u001b[32m━━━━━━━━━━━━━━━━━━━━\u001b[0m\u001b[37m\u001b[0m \u001b[1m565s\u001b[0m 735ms/step - accuracy: 0.4052 - loss: 2.2643 - val_accuracy: 0.2690 - val_loss: 2.9846\n",
      "Epoch 15/25\n",
      "\u001b[1m762/762\u001b[0m \u001b[32m━━━━━━━━━━━━━━━━━━━━\u001b[0m\u001b[37m\u001b[0m \u001b[1m575s\u001b[0m 748ms/step - accuracy: 0.4222 - loss: 2.1919 - val_accuracy: 0.2657 - val_loss: 2.9730\n",
      "Epoch 16/25\n",
      "\u001b[1m762/762\u001b[0m \u001b[32m━━━━━━━━━━━━━━━━━━━━\u001b[0m\u001b[37m\u001b[0m \u001b[1m571s\u001b[0m 743ms/step - accuracy: 0.4242 - loss: 2.1754 - val_accuracy: 0.2685 - val_loss: 2.9755\n",
      "Epoch 17/25\n",
      "\u001b[1m762/762\u001b[0m \u001b[32m━━━━━━━━━━━━━━━━━━━━\u001b[0m\u001b[37m\u001b[0m \u001b[1m572s\u001b[0m 744ms/step - accuracy: 0.4410 - loss: 2.1068 - val_accuracy: 0.2772 - val_loss: 3.0076\n",
      "Epoch 18/25\n",
      "\u001b[1m762/762\u001b[0m \u001b[32m━━━━━━━━━━━━━━━━━━━━\u001b[0m\u001b[37m\u001b[0m \u001b[1m567s\u001b[0m 737ms/step - accuracy: 0.4473 - loss: 2.0597 - val_accuracy: 0.2915 - val_loss: 2.9648\n",
      "Epoch 19/25\n",
      "\u001b[1m762/762\u001b[0m \u001b[32m━━━━━━━━━━━━━━━━━━━━\u001b[0m\u001b[37m\u001b[0m \u001b[1m566s\u001b[0m 737ms/step - accuracy: 0.4623 - loss: 2.0390 - val_accuracy: 0.2818 - val_loss: 2.9709\n",
      "Epoch 20/25\n",
      "\u001b[1m762/762\u001b[0m \u001b[32m━━━━━━━━━━━━━━━━━━━━\u001b[0m\u001b[37m\u001b[0m \u001b[1m567s\u001b[0m 738ms/step - accuracy: 0.4683 - loss: 1.9923 - val_accuracy: 0.2795 - val_loss: 3.0750\n",
      "Epoch 21/25\n",
      "\u001b[1m762/762\u001b[0m \u001b[32m━━━━━━━━━━━━━━━━━━━━\u001b[0m\u001b[37m\u001b[0m \u001b[1m564s\u001b[0m 733ms/step - accuracy: 0.4788 - loss: 1.9515 - val_accuracy: 0.2933 - val_loss: 2.9307\n",
      "Epoch 22/25\n",
      "\u001b[1m762/762\u001b[0m \u001b[32m━━━━━━━━━━━━━━━━━━━━\u001b[0m\u001b[37m\u001b[0m \u001b[1m566s\u001b[0m 736ms/step - accuracy: 0.4843 - loss: 1.9112 - val_accuracy: 0.2786 - val_loss: 3.0379\n",
      "Epoch 23/25\n",
      "\u001b[1m762/762\u001b[0m \u001b[32m━━━━━━━━━━━━━━━━━━━━\u001b[0m\u001b[37m\u001b[0m \u001b[1m564s\u001b[0m 734ms/step - accuracy: 0.4922 - loss: 1.8675 - val_accuracy: 0.2906 - val_loss: 2.9667\n",
      "Epoch 24/25\n",
      "\u001b[1m762/762\u001b[0m \u001b[32m━━━━━━━━━━━━━━━━━━━━\u001b[0m\u001b[37m\u001b[0m \u001b[1m569s\u001b[0m 740ms/step - accuracy: 0.5073 - loss: 1.8345 - val_accuracy: 0.2846 - val_loss: 3.0219\n",
      "Epoch 25/25\n",
      "\u001b[1m762/762\u001b[0m \u001b[32m━━━━━━━━━━━━━━━━━━━━\u001b[0m\u001b[37m\u001b[0m \u001b[1m568s\u001b[0m 739ms/step - accuracy: 0.5092 - loss: 1.8000 - val_accuracy: 0.2943 - val_loss: 3.0587\n"
     ]
    }
   ],
   "source": [
    "history = model.fit(train_generator, validation_data=val_generator, epochs=25)"
   ]
  },
  {
   "cell_type": "code",
   "execution_count": 10,
   "metadata": {},
   "outputs": [],
   "source": [
    "history_dict = history.history"
   ]
  },
  {
   "cell_type": "code",
   "execution_count": 11,
   "metadata": {},
   "outputs": [
    {
     "data": {
      "image/png": "[encoded data removed]",
      "text/plain": [
       "<Figure size 1200x600 with 2 Axes>"
      ]
     },
     "metadata": {},
     "output_type": "display_data"
    }
   ],
   "source": [
    "import matplotlib.pyplot as plt\n",
    "\n",
    "# Plot training & validation accuracy values\n",
    "plt.figure(figsize=(12, 6))\n",
    "plt.subplot(1, 2, 1)\n",
    "plt.plot(history_dict['accuracy'])\n",
    "plt.plot(history_dict['val_accuracy'])\n",
    "plt.title('Model Accuracy')\n",
    "plt.xlabel('Epoch')\n",
    "plt.ylabel('Accuracy')\n",
    "plt.legend(['Train', 'Validation'])\n",
    "\n",
    "# Plot training & validation loss values\n",
    "plt.subplot(1, 2, 2)\n",
    "plt.plot(history_dict['loss'])\n",
    "plt.plot(history_dict['val_loss'])\n",
    "plt.title('Model Loss')\n",
    "plt.xlabel('Epoch')\n",
    "plt.ylabel('Loss')\n",
    "plt.legend(['Train', 'Validation'])\n",
    "\n",
    "plt.show()"
   ]
  },
  {
   "cell_type": "markdown",
   "metadata": {},
   "source": [
    "Obtaining Predictions for testing & evaluation"
   ]
  },
  {
   "cell_type": "code",
   "execution_count": 12,
   "metadata": {},
   "outputs": [
    {
     "name": "stderr",
     "output_type": "stream",
     "text": [
      "/home/deepaksr/miniconda3/envs/cnn/lib/python3.12/site-packages/keras/src/trainers/data_adapters/py_dataset_adapter.py:122: UserWarning: Your `PyDataset` class should call `super().__init__(**kwargs)` in its constructor. `**kwargs` can include `workers`, `use_multiprocessing`, `max_queue_size`. Do not pass these arguments to `fit()`, as they will be ignored.\n",
      "  self._warn_if_super_not_called()\n"
     ]
    },
    {
     "name": "stdout",
     "output_type": "stream",
     "text": [
      "\u001b[1m32/32\u001b[0m \u001b[32m━━━━━━━━━━━━━━━━━━━━\u001b[0m\u001b[37m\u001b[0m \u001b[1m24s\u001b[0m 726ms/step\n",
      "[21  0  0 ... 20 50 59]\n"
     ]
    },
    {
     "data": {
      "text/plain": [
       "array([ 0,  0,  0, ..., 59, 59, 59], dtype=int32)"
      ]
     },
     "execution_count": 12,
     "metadata": {},
     "output_type": "execute_result"
    }
   ],
   "source": [
    "import numpy as np\n",
    "y_pred_prob=model.predict(test_generator)\n",
    "y_pred=np.argmax(y_pred_prob, axis=1)\n",
    "print(y_pred)\n",
    "y_true=test_generator.classes\n",
    "y_true"
   ]
  },
  {
   "cell_type": "code",
   "execution_count": 13,
   "metadata": {},
   "outputs": [
    {
     "name": "stdout",
     "output_type": "stream",
     "text": [
      "Accuracy : 0.2803\n",
      "Precision : 0.3222\n",
      "Recall : 0.2803\n",
      "F1 Score : 0.2697\n",
      "Classification Report:\n",
      "               precision    recall  f1-score   support\n",
      "\n",
      "         A10       0.20      0.45      0.28        20\n",
      "       A400M       0.25      0.05      0.08        20\n",
      "       AG600       0.86      0.30      0.44        20\n",
      "        AV8B       0.42      0.40      0.41        20\n",
      "        An72       0.00      0.00      0.00        10\n",
      "          B1       0.38      0.30      0.33        20\n",
      "          B2       0.14      0.15      0.15        20\n",
      "         B21       0.00      0.00      0.00         4\n",
      "         B52       0.23      0.25      0.24        20\n",
      "       Be200       0.50      0.14      0.22        14\n",
      "        C130       0.21      0.60      0.31        20\n",
      "         C17       0.18      0.15      0.16        20\n",
      "          C2       0.45      0.65      0.53        20\n",
      "        C390       0.00      0.00      0.00         8\n",
      "          C5       0.25      0.10      0.14        20\n",
      "          E2       0.42      0.40      0.41        20\n",
      "          E7       0.36      0.50      0.42        10\n",
      "      EF2000       0.18      0.20      0.19        20\n",
      "        F117       0.86      0.30      0.44        20\n",
      "         F14       0.12      0.10      0.11        20\n",
      "         F15       0.15      0.45      0.23        20\n",
      "         F16       0.07      0.25      0.11        20\n",
      "         F18       0.15      0.45      0.22        20\n",
      "         F22       0.27      0.20      0.23        20\n",
      "         F35       0.18      0.30      0.23        20\n",
      "          F4       0.38      0.15      0.21        20\n",
      "          H6       0.54      0.35      0.42        20\n",
      "         J10       0.41      0.35      0.38        20\n",
      "         J20       0.29      0.25      0.27        20\n",
      "       JAS39       0.50      0.25      0.33        20\n",
      "        JF17       0.25      0.10      0.14        10\n",
      "         JH7       0.00      0.00      0.00        10\n",
      "       KC135       0.57      0.20      0.30        20\n",
      "        KF21       0.00      0.00      0.00        10\n",
      "       KJ600       0.00      0.00      0.00         5\n",
      "         MQ9       0.33      0.10      0.15        20\n",
      "       Mig31       0.07      0.05      0.06        20\n",
      "  Mirage2000       0.46      0.30      0.36        20\n",
      "          P3       0.80      0.60      0.69        20\n",
      "         RQ4       0.50      0.45      0.47        20\n",
      "      Rafale       0.33      0.35      0.34        20\n",
      "        SR71       0.18      0.20      0.19        10\n",
      "        Su24       0.43      0.15      0.22        20\n",
      "        Su25       0.20      0.05      0.08        20\n",
      "        Su34       0.35      0.35      0.35        20\n",
      "        Su57       0.14      0.05      0.07        20\n",
      "       TB001       0.00      0.00      0.00         5\n",
      "         TB2       0.64      0.80      0.71        20\n",
      "     Tornado       0.20      0.10      0.13        20\n",
      "       Tu160       0.27      0.35      0.30        20\n",
      "       Tu22M       0.29      0.60      0.39        10\n",
      "        Tu95       0.08      0.05      0.06        20\n",
      "          U2       0.36      0.50      0.42        10\n",
      "         US2       0.41      0.55      0.47        20\n",
      "         V22       0.27      0.65      0.38        20\n",
      "      Vulcan       0.38      0.25      0.30        20\n",
      "         WZ7       0.33      0.40      0.36         5\n",
      "        XB70       0.08      0.10      0.09        10\n",
      "         Y20       0.50      0.10      0.17        10\n",
      "        YF23       1.00      0.20      0.33         5\n",
      "\n",
      "    accuracy                           0.28      1006\n",
      "   macro avg       0.31      0.26      0.25      1006\n",
      "weighted avg       0.32      0.28      0.27      1006\n",
      "\n"
     ]
    },
    {
     "name": "stderr",
     "output_type": "stream",
     "text": [
      "/home/deepaksr/miniconda3/envs/cnn/lib/python3.12/site-packages/sklearn/metrics/_classification.py:1531: UndefinedMetricWarning: Precision is ill-defined and being set to 0.0 in labels with no predicted samples. Use `zero_division` parameter to control this behavior.\n",
      "  _warn_prf(average, modifier, f\"{metric.capitalize()} is\", len(result))\n",
      "/home/deepaksr/miniconda3/envs/cnn/lib/python3.12/site-packages/sklearn/metrics/_classification.py:1531: UndefinedMetricWarning: Precision is ill-defined and being set to 0.0 in labels with no predicted samples. Use `zero_division` parameter to control this behavior.\n",
      "  _warn_prf(average, modifier, f\"{metric.capitalize()} is\", len(result))\n",
      "/home/deepaksr/miniconda3/envs/cnn/lib/python3.12/site-packages/sklearn/metrics/_classification.py:1531: UndefinedMetricWarning: Precision is ill-defined and being set to 0.0 in labels with no predicted samples. Use `zero_division` parameter to control this behavior.\n",
      "  _warn_prf(average, modifier, f\"{metric.capitalize()} is\", len(result))\n",
      "/home/deepaksr/miniconda3/envs/cnn/lib/python3.12/site-packages/sklearn/metrics/_classification.py:1531: UndefinedMetricWarning: Precision is ill-defined and being set to 0.0 in labels with no predicted samples. Use `zero_division` parameter to control this behavior.\n",
      "  _warn_prf(average, modifier, f\"{metric.capitalize()} is\", len(result))\n"
     ]
    }
   ],
   "source": [
    "from sklearn.metrics import precision_score, accuracy_score, recall_score, f1_score, classification_report\n",
    "accuracy = accuracy_score(y_true,y_pred)\n",
    "precision = precision_score(y_true, y_pred, average='weighted')\n",
    "recall = recall_score(y_true, y_pred, average='weighted')\n",
    "f1 = f1_score(y_true, y_pred, average='weighted')\n",
    "print(f'Accuracy : {accuracy:.4f}')\n",
    "print(f'Precision : {precision:.4f}')\n",
    "print(f'Recall : {recall:.4f}')\n",
    "print(f'F1 Score : {f1:.4f}')\n",
    "print('Classification Report:\\n', classification_report(y_true, y_pred,target_names=test_generator.class_indices.keys()))\n"
   ]
  },
  {
   "cell_type": "code",
   "execution_count": 14,
   "metadata": {},
   "outputs": [
    {
     "name": "stdout",
     "output_type": "stream",
     "text": [
      "[[9 0 0 ... 0 0 0]\n",
      " [0 1 0 ... 0 0 0]\n",
      " [0 0 6 ... 0 0 0]\n",
      " ...\n",
      " [0 1 0 ... 1 0 0]\n",
      " [1 0 0 ... 0 1 0]\n",
      " [0 0 0 ... 0 0 1]]\n"
     ]
    }
   ],
   "source": [
    "from sklearn.metrics import confusion_matrix\n",
    "cm = confusion_matrix(y_true, y_pred)\n",
    "print(cm)"
   ]
  },
  {
   "cell_type": "code",
   "execution_count": 9,
   "metadata": {},
   "outputs": [
    {
     "name": "stdout",
     "output_type": "stream",
     "text": [
      "Epoch 1/50\n"
     ]
    },
    {
     "name": "stderr",
     "output_type": "stream",
     "text": [
      "/home/deepaksr/miniconda3/envs/cnn/lib/python3.12/site-packages/keras/src/trainers/data_adapters/py_dataset_adapter.py:122: UserWarning: Your `PyDataset` class should call `super().__init__(**kwargs)` in its constructor. `**kwargs` can include `workers`, `use_multiprocessing`, `max_queue_size`. Do not pass these arguments to `fit()`, as they will be ignored.\n",
      "  self._warn_if_super_not_called()\n",
      "WARNING: All log messages before absl::InitializeLog() is called are written to STDERR\n",
      "I0000 00:00:1725278207.805362 2530938 service.cc:146] XLA service 0x7fdbc8004930 initialized for platform CUDA (this does not guarantee that XLA will be used). Devices:\n",
      "I0000 00:00:1725278207.805465 2530938 service.cc:154]   StreamExecutor device (0): NVIDIA GeForce RTX 2080 Ti, Compute Capability 7.5\n",
      "2024-09-02 17:26:47.869145: I tensorflow/compiler/mlir/tensorflow/utils/dump_mlir_util.cc:268] disabling MLIR crash reproducer, set env var `MLIR_CRASH_REPRODUCER_DIRECTORY` to enable.\n",
      "2024-09-02 17:26:48.120433: I external/local_xla/xla/stream_executor/cuda/cuda_dnn.cc:531] Loaded cuDNN version 8907\n",
      "2024-09-02 17:26:52.824318: W external/local_xla/xla/service/hlo_rematerialization.cc:3005] Can't reduce memory use below 4.23GiB (4537813569 bytes) by rematerialization; only reduced to 5.69GiB (6108624176 bytes), down from 6.13GiB (6581249472 bytes) originally\n",
      "2024-09-02 17:26:52.921646: W external/local_xla/xla/service/gpu/nvptx_compiler.cc:762] The NVIDIA driver's CUDA version is 12.2 which is older than the ptxas CUDA version (12.3.107). Because the driver is older than the ptxas version, XLA is disabling parallel compilation, which may slow down compilation. You should update your NVIDIA driver or use the NVIDIA-provided CUDA forward compatibility packages.\n"
     ]
    },
    {
     "name": "stdout",
     "output_type": "stream",
     "text": [
      "\u001b[1m  2/762\u001b[0m \u001b[37m━━━━━━━━━━━━━━━━━━━━\u001b[0m \u001b[1m1:24\u001b[0m 112ms/step - accuracy: 0.0000e+00 - loss: 20.1288"
     ]
    },
    {
     "name": "stderr",
     "output_type": "stream",
     "text": [
      "I0000 00:00:1725278214.098801 2530938 device_compiler.h:188] Compiled cluster using XLA!  This line is logged at most once for the lifetime of the process.\n"
     ]
    },
    {
     "name": "stdout",
     "output_type": "stream",
     "text": [
      "\u001b[1m568/762\u001b[0m \u001b[32m━━━━━━━━━━━━━━\u001b[0m\u001b[37m━━━━━━\u001b[0m \u001b[1m2:17\u001b[0m 706ms/step - accuracy: 0.0543 - loss: 5.4084"
     ]
    },
    {
     "name": "stderr",
     "output_type": "stream",
     "text": [
      "2024-09-02 17:33:36.427624: W external/local_tsl/tsl/framework/bfc_allocator.cc:291] Allocator (GPU_0_bfc) ran out of memory trying to allocate 3.98GiB with freed_by_count=0. The caller indicates that this is not a failure, but this may mean that there could be performance gains if more memory were available.\n",
      "2024-09-02 17:33:36.978510: W external/local_tsl/tsl/framework/bfc_allocator.cc:291] Allocator (GPU_0_bfc) ran out of memory trying to allocate 2.79GiB with freed_by_count=0. The caller indicates that this is not a failure, but this may mean that there could be performance gains if more memory were available.\n",
      "2024-09-02 17:33:39.541120: W external/local_xla/xla/service/hlo_rematerialization.cc:3005] Can't reduce memory use below 4.23GiB (4538839797 bytes) by rematerialization; only reduced to 5.64GiB (6055512272 bytes), down from 6.07GiB (6513377568 bytes) originally\n"
     ]
    },
    {
     "name": "stdout",
     "output_type": "stream",
     "text": [
      "\u001b[1m762/762\u001b[0m \u001b[32m━━━━━━━━━━━━━━━━━━━━\u001b[0m\u001b[37m\u001b[0m \u001b[1m600s\u001b[0m 768ms/step - accuracy: 0.0563 - loss: 5.0681 - val_accuracy: 0.0607 - val_loss: 3.8403\n",
      "Epoch 2/50\n",
      "\u001b[1m762/762\u001b[0m \u001b[32m━━━━━━━━━━━━━━━━━━━━\u001b[0m\u001b[37m\u001b[0m \u001b[1m566s\u001b[0m 736ms/step - accuracy: 0.0958 - loss: 3.6734 - val_accuracy: 0.1126 - val_loss: 3.6549\n",
      "Epoch 3/50\n",
      "\u001b[1m762/762\u001b[0m \u001b[32m━━━━━━━━━━━━━━━━━━━━\u001b[0m\u001b[37m\u001b[0m \u001b[1m572s\u001b[0m 744ms/step - accuracy: 0.1425 - loss: 3.4487 - val_accuracy: 0.1352 - val_loss: 3.5208\n",
      "Epoch 4/50\n",
      "\u001b[1m762/762\u001b[0m \u001b[32m━━━━━━━━━━━━━━━━━━━━\u001b[0m\u001b[37m\u001b[0m \u001b[1m571s\u001b[0m 743ms/step - accuracy: 0.1757 - loss: 3.2714 - val_accuracy: 0.1605 - val_loss: 3.3971\n",
      "Epoch 5/50\n",
      "\u001b[1m762/762\u001b[0m \u001b[32m━━━━━━━━━━━━━━━━━━━━\u001b[0m\u001b[37m\u001b[0m \u001b[1m572s\u001b[0m 744ms/step - accuracy: 0.2190 - loss: 3.0851 - val_accuracy: 0.1880 - val_loss: 3.2890\n",
      "Epoch 6/50\n",
      "\u001b[1m762/762\u001b[0m \u001b[32m━━━━━━━━━━━━━━━━━━━━\u001b[0m\u001b[37m\u001b[0m \u001b[1m573s\u001b[0m 746ms/step - accuracy: 0.2481 - loss: 2.9256 - val_accuracy: 0.2087 - val_loss: 3.2079\n",
      "Epoch 7/50\n",
      "\u001b[1m762/762\u001b[0m \u001b[32m━━━━━━━━━━━━━━━━━━━━\u001b[0m\u001b[37m\u001b[0m \u001b[1m570s\u001b[0m 741ms/step - accuracy: 0.2783 - loss: 2.8140 - val_accuracy: 0.1995 - val_loss: 3.2459\n",
      "Epoch 8/50\n",
      "\u001b[1m762/762\u001b[0m \u001b[32m━━━━━━━━━━━━━━━━━━━━\u001b[0m\u001b[37m\u001b[0m \u001b[1m570s\u001b[0m 741ms/step - accuracy: 0.3071 - loss: 2.6860 - val_accuracy: 0.2340 - val_loss: 3.0900\n",
      "Epoch 9/50\n",
      "\u001b[1m762/762\u001b[0m \u001b[32m━━━━━━━━━━━━━━━━━━━━\u001b[0m\u001b[37m\u001b[0m \u001b[1m565s\u001b[0m 736ms/step - accuracy: 0.3242 - loss: 2.5976 - val_accuracy: 0.2285 - val_loss: 3.1333\n",
      "Epoch 10/50\n",
      "\u001b[1m762/762\u001b[0m \u001b[32m━━━━━━━━━━━━━━━━━━━━\u001b[0m\u001b[37m\u001b[0m \u001b[1m565s\u001b[0m 734ms/step - accuracy: 0.3477 - loss: 2.5153 - val_accuracy: 0.2575 - val_loss: 2.9904\n",
      "Epoch 11/50\n",
      "\u001b[1m762/762\u001b[0m \u001b[32m━━━━━━━━━━━━━━━━━━━━\u001b[0m\u001b[37m\u001b[0m \u001b[1m572s\u001b[0m 744ms/step - accuracy: 0.3689 - loss: 2.4053 - val_accuracy: 0.2630 - val_loss: 2.9818\n",
      "Epoch 12/50\n",
      "\u001b[1m762/762\u001b[0m \u001b[32m━━━━━━━━━━━━━━━━━━━━\u001b[0m\u001b[37m\u001b[0m \u001b[1m565s\u001b[0m 735ms/step - accuracy: 0.3728 - loss: 2.3969 - val_accuracy: 0.2791 - val_loss: 3.0086\n",
      "Epoch 13/50\n",
      "\u001b[1m762/762\u001b[0m \u001b[32m━━━━━━━━━━━━━━━━━━━━\u001b[0m\u001b[37m\u001b[0m \u001b[1m568s\u001b[0m 740ms/step - accuracy: 0.3983 - loss: 2.2916 - val_accuracy: 0.2685 - val_loss: 2.9165\n",
      "Epoch 14/50\n",
      "\u001b[1m762/762\u001b[0m \u001b[32m━━━━━━━━━━━━━━━━━━━━\u001b[0m\u001b[37m\u001b[0m \u001b[1m563s\u001b[0m 733ms/step - accuracy: 0.4166 - loss: 2.2222 - val_accuracy: 0.2855 - val_loss: 2.9728\n",
      "Epoch 15/50\n",
      "\u001b[1m762/762\u001b[0m \u001b[32m━━━━━━━━━━━━━━━━━━━━\u001b[0m\u001b[37m\u001b[0m \u001b[1m560s\u001b[0m 729ms/step - accuracy: 0.4253 - loss: 2.1799 - val_accuracy: 0.2809 - val_loss: 2.9535\n",
      "Epoch 16/50\n",
      "\u001b[1m762/762\u001b[0m \u001b[32m━━━━━━━━━━━━━━━━━━━━\u001b[0m\u001b[37m\u001b[0m \u001b[1m570s\u001b[0m 741ms/step - accuracy: 0.4326 - loss: 2.1341 - val_accuracy: 0.2772 - val_loss: 2.9593\n",
      "Epoch 17/50\n",
      "\u001b[1m762/762\u001b[0m \u001b[32m━━━━━━━━━━━━━━━━━━━━\u001b[0m\u001b[37m\u001b[0m \u001b[1m577s\u001b[0m 750ms/step - accuracy: 0.4476 - loss: 2.0596 - val_accuracy: 0.2828 - val_loss: 2.9829\n",
      "Epoch 18/50\n",
      "\u001b[1m762/762\u001b[0m \u001b[32m━━━━━━━━━━━━━━━━━━━━\u001b[0m\u001b[37m\u001b[0m \u001b[1m571s\u001b[0m 743ms/step - accuracy: 0.4527 - loss: 2.0482 - val_accuracy: 0.2841 - val_loss: 2.9324\n",
      "Epoch 19/50\n",
      "\u001b[1m762/762\u001b[0m \u001b[32m━━━━━━━━━━━━━━━━━━━━\u001b[0m\u001b[37m\u001b[0m \u001b[1m566s\u001b[0m 737ms/step - accuracy: 0.4620 - loss: 1.9942 - val_accuracy: 0.2961 - val_loss: 2.8826\n",
      "Epoch 20/50\n",
      "\u001b[1m762/762\u001b[0m \u001b[32m━━━━━━━━━━━━━━━━━━━━\u001b[0m\u001b[37m\u001b[0m \u001b[1m568s\u001b[0m 738ms/step - accuracy: 0.4808 - loss: 1.9456 - val_accuracy: 0.2984 - val_loss: 2.8773\n",
      "Epoch 21/50\n",
      "\u001b[1m762/762\u001b[0m \u001b[32m━━━━━━━━━━━━━━━━━━━━\u001b[0m\u001b[37m\u001b[0m \u001b[1m570s\u001b[0m 741ms/step - accuracy: 0.4976 - loss: 1.8890 - val_accuracy: 0.3062 - val_loss: 2.9094\n",
      "Epoch 22/50\n",
      "\u001b[1m762/762\u001b[0m \u001b[32m━━━━━━━━━━━━━━━━━━━━\u001b[0m\u001b[37m\u001b[0m \u001b[1m578s\u001b[0m 751ms/step - accuracy: 0.4961 - loss: 1.8700 - val_accuracy: 0.2864 - val_loss: 2.9433\n",
      "Epoch 23/50\n",
      "\u001b[1m762/762\u001b[0m \u001b[32m━━━━━━━━━━━━━━━━━━━━\u001b[0m\u001b[37m\u001b[0m \u001b[1m575s\u001b[0m 749ms/step - accuracy: 0.5006 - loss: 1.8450 - val_accuracy: 0.2901 - val_loss: 2.9557\n",
      "Epoch 24/50\n",
      "\u001b[1m762/762\u001b[0m \u001b[32m━━━━━━━━━━━━━━━━━━━━\u001b[0m\u001b[37m\u001b[0m \u001b[1m572s\u001b[0m 743ms/step - accuracy: 0.5048 - loss: 1.8137 - val_accuracy: 0.2947 - val_loss: 2.9711\n",
      "Epoch 25/50\n",
      "\u001b[1m762/762\u001b[0m \u001b[32m━━━━━━━━━━━━━━━━━━━━\u001b[0m\u001b[37m\u001b[0m \u001b[1m565s\u001b[0m 735ms/step - accuracy: 0.5168 - loss: 1.7798 - val_accuracy: 0.3025 - val_loss: 2.9986\n",
      "Epoch 26/50\n",
      "\u001b[1m762/762\u001b[0m \u001b[32m━━━━━━━━━━━━━━━━━━━━\u001b[0m\u001b[37m\u001b[0m \u001b[1m578s\u001b[0m 751ms/step - accuracy: 0.5212 - loss: 1.7585 - val_accuracy: 0.3159 - val_loss: 2.8755\n",
      "Epoch 27/50\n",
      "\u001b[1m762/762\u001b[0m \u001b[32m━━━━━━━━━━━━━━━━━━━━\u001b[0m\u001b[37m\u001b[0m \u001b[1m573s\u001b[0m 746ms/step - accuracy: 0.5352 - loss: 1.7046 - val_accuracy: 0.3071 - val_loss: 3.0808\n",
      "Epoch 28/50\n",
      "\u001b[1m762/762\u001b[0m \u001b[32m━━━━━━━━━━━━━━━━━━━━\u001b[0m\u001b[37m\u001b[0m \u001b[1m565s\u001b[0m 736ms/step - accuracy: 0.5413 - loss: 1.7077 - val_accuracy: 0.3140 - val_loss: 2.8930\n",
      "Epoch 29/50\n",
      "\u001b[1m762/762\u001b[0m \u001b[32m━━━━━━━━━━━━━━━━━━━━\u001b[0m\u001b[37m\u001b[0m \u001b[1m562s\u001b[0m 731ms/step - accuracy: 0.5436 - loss: 1.6795 - val_accuracy: 0.3255 - val_loss: 2.9628\n",
      "Epoch 30/50\n",
      "\u001b[1m762/762\u001b[0m \u001b[32m━━━━━━━━━━━━━━━━━━━━\u001b[0m\u001b[37m\u001b[0m \u001b[1m563s\u001b[0m 733ms/step - accuracy: 0.5576 - loss: 1.6179 - val_accuracy: 0.3094 - val_loss: 2.9870\n",
      "Epoch 31/50\n",
      "\u001b[1m762/762\u001b[0m \u001b[32m━━━━━━━━━━━━━━━━━━━━\u001b[0m\u001b[37m\u001b[0m \u001b[1m565s\u001b[0m 735ms/step - accuracy: 0.5545 - loss: 1.6234 - val_accuracy: 0.3209 - val_loss: 2.9459\n",
      "Epoch 32/50\n",
      "\u001b[1m762/762\u001b[0m \u001b[32m━━━━━━━━━━━━━━━━━━━━\u001b[0m\u001b[37m\u001b[0m \u001b[1m568s\u001b[0m 739ms/step - accuracy: 0.5576 - loss: 1.6126 - val_accuracy: 0.3324 - val_loss: 3.0405\n",
      "Epoch 33/50\n",
      "\u001b[1m762/762\u001b[0m \u001b[32m━━━━━━━━━━━━━━━━━━━━\u001b[0m\u001b[37m\u001b[0m \u001b[1m573s\u001b[0m 745ms/step - accuracy: 0.5652 - loss: 1.5716 - val_accuracy: 0.3283 - val_loss: 2.9492\n",
      "Epoch 34/50\n",
      "\u001b[1m762/762\u001b[0m \u001b[32m━━━━━━━━━━━━━━━━━━━━\u001b[0m\u001b[37m\u001b[0m \u001b[1m569s\u001b[0m 740ms/step - accuracy: 0.5706 - loss: 1.5810 - val_accuracy: 0.3361 - val_loss: 2.9738\n",
      "Epoch 35/50\n",
      "\u001b[1m762/762\u001b[0m \u001b[32m━━━━━━━━━━━━━━━━━━━━\u001b[0m\u001b[37m\u001b[0m \u001b[1m563s\u001b[0m 732ms/step - accuracy: 0.5764 - loss: 1.5249 - val_accuracy: 0.3205 - val_loss: 3.1446\n",
      "Epoch 36/50\n",
      "\u001b[1m762/762\u001b[0m \u001b[32m━━━━━━━━━━━━━━━━━━━━\u001b[0m\u001b[37m\u001b[0m \u001b[1m568s\u001b[0m 738ms/step - accuracy: 0.5745 - loss: 1.5306 - val_accuracy: 0.3301 - val_loss: 3.1429\n",
      "Epoch 37/50\n",
      "\u001b[1m762/762\u001b[0m \u001b[32m━━━━━━━━━━━━━━━━━━━━\u001b[0m\u001b[37m\u001b[0m \u001b[1m566s\u001b[0m 736ms/step - accuracy: 0.5821 - loss: 1.5157 - val_accuracy: 0.3154 - val_loss: 3.1809\n",
      "Epoch 38/50\n",
      "\u001b[1m762/762\u001b[0m \u001b[32m━━━━━━━━━━━━━━━━━━━━\u001b[0m\u001b[37m\u001b[0m \u001b[1m570s\u001b[0m 741ms/step - accuracy: 0.5888 - loss: 1.5001 - val_accuracy: 0.3099 - val_loss: 3.2414\n",
      "Epoch 39/50\n",
      "\u001b[1m762/762\u001b[0m \u001b[32m━━━━━━━━━━━━━━━━━━━━\u001b[0m\u001b[37m\u001b[0m \u001b[1m568s\u001b[0m 739ms/step - accuracy: 0.5894 - loss: 1.4746 - val_accuracy: 0.3356 - val_loss: 3.1832\n",
      "Epoch 40/50\n",
      "\u001b[1m762/762\u001b[0m \u001b[32m━━━━━━━━━━━━━━━━━━━━\u001b[0m\u001b[37m\u001b[0m \u001b[1m566s\u001b[0m 736ms/step - accuracy: 0.5960 - loss: 1.4553 - val_accuracy: 0.3177 - val_loss: 3.1610\n",
      "Epoch 41/50\n",
      "\u001b[1m762/762\u001b[0m \u001b[32m━━━━━━━━━━━━━━━━━━━━\u001b[0m\u001b[37m\u001b[0m \u001b[1m570s\u001b[0m 741ms/step - accuracy: 0.6035 - loss: 1.4535 - val_accuracy: 0.3251 - val_loss: 3.1930\n",
      "Epoch 42/50\n",
      "\u001b[1m762/762\u001b[0m \u001b[32m━━━━━━━━━━━━━━━━━━━━\u001b[0m\u001b[37m\u001b[0m \u001b[1m567s\u001b[0m 738ms/step - accuracy: 0.6080 - loss: 1.4173 - val_accuracy: 0.3260 - val_loss: 3.1569\n",
      "Epoch 43/50\n",
      "\u001b[1m762/762\u001b[0m \u001b[32m━━━━━━━━━━━━━━━━━━━━\u001b[0m\u001b[37m\u001b[0m \u001b[1m571s\u001b[0m 743ms/step - accuracy: 0.6093 - loss: 1.4278 - val_accuracy: 0.3324 - val_loss: 3.1631\n",
      "Epoch 44/50\n",
      "\u001b[1m762/762\u001b[0m \u001b[32m━━━━━━━━━━━━━━━━━━━━\u001b[0m\u001b[37m\u001b[0m \u001b[1m573s\u001b[0m 745ms/step - accuracy: 0.6127 - loss: 1.3865 - val_accuracy: 0.3411 - val_loss: 3.0737\n",
      "Epoch 45/50\n",
      "\u001b[1m762/762\u001b[0m \u001b[32m━━━━━━━━━━━━━━━━━━━━\u001b[0m\u001b[37m\u001b[0m \u001b[1m570s\u001b[0m 741ms/step - accuracy: 0.6178 - loss: 1.3826 - val_accuracy: 0.3366 - val_loss: 3.2939\n",
      "Epoch 46/50\n",
      "\u001b[1m762/762\u001b[0m \u001b[32m━━━━━━━━━━━━━━━━━━━━\u001b[0m\u001b[37m\u001b[0m \u001b[1m566s\u001b[0m 736ms/step - accuracy: 0.6203 - loss: 1.3523 - val_accuracy: 0.3347 - val_loss: 3.1087\n",
      "Epoch 47/50\n",
      "\u001b[1m762/762\u001b[0m \u001b[32m━━━━━━━━━━━━━━━━━━━━\u001b[0m\u001b[37m\u001b[0m \u001b[1m574s\u001b[0m 747ms/step - accuracy: 0.6209 - loss: 1.3661 - val_accuracy: 0.3352 - val_loss: 3.1104\n",
      "Epoch 48/50\n",
      "\u001b[1m762/762\u001b[0m \u001b[32m━━━━━━━━━━━━━━━━━━━━\u001b[0m\u001b[37m\u001b[0m \u001b[1m566s\u001b[0m 737ms/step - accuracy: 0.6318 - loss: 1.3369 - val_accuracy: 0.3324 - val_loss: 3.2465\n",
      "Epoch 49/50\n",
      "\u001b[1m762/762\u001b[0m \u001b[32m━━━━━━━━━━━━━━━━━━━━\u001b[0m\u001b[37m\u001b[0m \u001b[1m570s\u001b[0m 742ms/step - accuracy: 0.6298 - loss: 1.3401 - val_accuracy: 0.3416 - val_loss: 3.2397\n",
      "Epoch 50/50\n",
      "\u001b[1m762/762\u001b[0m \u001b[32m━━━━━━━━━━━━━━━━━━━━\u001b[0m\u001b[37m\u001b[0m \u001b[1m567s\u001b[0m 738ms/step - accuracy: 0.6328 - loss: 1.3116 - val_accuracy: 0.3200 - val_loss: 3.2912\n"
     ]
    }
   ],
   "source": [
    "history = model.fit(train_generator, validation_data=val_generator, epochs=50)"
   ]
  },
  {
   "cell_type": "code",
   "execution_count": 10,
   "metadata": {},
   "outputs": [],
   "source": [
    "history_dict = history.history"
   ]
  },
  {
   "cell_type": "code",
   "execution_count": 11,
   "metadata": {},
   "outputs": [
    {
     "data": {
      "image/png": "[encoded data removed]",
      "text/plain": [
       "<Figure size 1200x600 with 2 Axes>"
      ]
     },
     "metadata": {},
     "output_type": "display_data"
    }
   ],
   "source": [
    "import matplotlib.pyplot as plt # type: ignore\n",
    "\n",
    "# Plot training & validation accuracy values\n",
    "plt.figure(figsize=(12, 6))\n",
    "plt.subplot(1, 2, 1)\n",
    "plt.plot(history_dict['accuracy'])\n",
    "plt.plot(history_dict['val_accuracy'])\n",
    "plt.title('Model Accuracy')\n",
    "plt.xlabel('Epoch')\n",
    "plt.ylabel('Accuracy')\n",
    "plt.legend(['Train', 'Validation'])\n",
    "\n",
    "# Plot training & validation loss values\n",
    "plt.subplot(1, 2, 2)\n",
    "plt.plot(history_dict['loss'])\n",
    "plt.plot(history_dict['val_loss'])\n",
    "plt.title('Model Loss')\n",
    "plt.xlabel('Epoch')\n",
    "plt.ylabel('Loss')\n",
    "plt.legend(['Train', 'Validation'])\n",
    "\n",
    "plt.show()"
   ]
  },
  {
   "cell_type": "markdown",
   "metadata": {},
   "source": [
    "Obtaining Predictions for testing & evaluation"
   ]
  },
  {
   "cell_type": "code",
   "execution_count": 12,
   "metadata": {},
   "outputs": [
    {
     "name": "stderr",
     "output_type": "stream",
     "text": [
      "/home/deepaksr/miniconda3/envs/cnn/lib/python3.12/site-packages/keras/src/trainers/data_adapters/py_dataset_adapter.py:122: UserWarning: Your `PyDataset` class should call `super().__init__(**kwargs)` in its constructor. `**kwargs` can include `workers`, `use_multiprocessing`, `max_queue_size`. Do not pass these arguments to `fit()`, as they will be ignored.\n",
      "  self._warn_if_super_not_called()\n"
     ]
    },
    {
     "name": "stdout",
     "output_type": "stream",
     "text": [
      "\u001b[1m 2/32\u001b[0m \u001b[32m━\u001b[0m\u001b[37m━━━━━━━━━━━━━━━━━━━\u001b[0m \u001b[1m9s\u001b[0m 307ms/step"
     ]
    },
    {
     "name": "stdout",
     "output_type": "stream",
     "text": [
      "\u001b[1m32/32\u001b[0m \u001b[32m━━━━━━━━━━━━━━━━━━━━\u001b[0m\u001b[37m\u001b[0m \u001b[1m22s\u001b[0m 686ms/step\n",
      "[24  0  0 ... 24 10  5]\n"
     ]
    },
    {
     "data": {
      "text/plain": [
       "array([ 0,  0,  0, ..., 59, 59, 59], dtype=int32)"
      ]
     },
     "execution_count": 12,
     "metadata": {},
     "output_type": "execute_result"
    }
   ],
   "source": [
    "import numpy as np # type: ignore\n",
    "y_pred_prob=model.predict(test_generator)\n",
    "y_pred=np.argmax(y_pred_prob, axis=1)\n",
    "print(y_pred)\n",
    "y_true=test_generator.classes\n",
    "y_true"
   ]
  },
  {
   "cell_type": "code",
   "execution_count": 13,
   "metadata": {},
   "outputs": [
    {
     "name": "stdout",
     "output_type": "stream",
     "text": [
      "Accuracy : 0.3201\n",
      "Precision : 0.3650\n",
      "Recall : 0.3201\n",
      "F1 Score : 0.3211\n",
      "Classification Report:\n",
      "               precision    recall  f1-score   support\n",
      "\n",
      "         A10       0.33      0.50      0.40        20\n",
      "       A400M       0.43      0.30      0.35        20\n",
      "       AG600       0.70      0.35      0.47        20\n",
      "        AV8B       0.52      0.60      0.56        20\n",
      "        An72       0.00      0.00      0.00        10\n",
      "          B1       0.33      0.25      0.29        20\n",
      "          B2       0.32      0.45      0.38        20\n",
      "         B21       0.00      0.00      0.00         4\n",
      "         B52       0.35      0.35      0.35        20\n",
      "       Be200       0.27      0.29      0.28        14\n",
      "        C130       0.26      0.45      0.33        20\n",
      "         C17       0.26      0.25      0.26        20\n",
      "          C2       0.59      0.80      0.68        20\n",
      "        C390       0.00      0.00      0.00         8\n",
      "          C5       0.33      0.25      0.29        20\n",
      "          E2       0.44      0.35      0.39        20\n",
      "          E7       0.50      0.20      0.29        10\n",
      "      EF2000       0.18      0.25      0.21        20\n",
      "        F117       0.73      0.40      0.52        20\n",
      "         F14       0.09      0.05      0.06        20\n",
      "         F15       0.18      0.45      0.26        20\n",
      "         F16       0.09      0.30      0.14        20\n",
      "         F18       0.09      0.30      0.14        20\n",
      "         F22       0.25      0.20      0.22        20\n",
      "         F35       0.11      0.25      0.16        20\n",
      "          F4       0.15      0.10      0.12        20\n",
      "          H6       0.80      0.20      0.32        20\n",
      "         J10       0.42      0.25      0.31        20\n",
      "         J20       0.30      0.35      0.33        20\n",
      "       JAS39       0.32      0.40      0.36        20\n",
      "        JF17       0.00      0.00      0.00        10\n",
      "         JH7       0.00      0.00      0.00        10\n",
      "       KC135       0.50      0.25      0.33        20\n",
      "        KF21       0.67      0.20      0.31        10\n",
      "       KJ600       0.00      0.00      0.00         5\n",
      "         MQ9       0.50      0.25      0.33        20\n",
      "       Mig31       0.20      0.10      0.13        20\n",
      "  Mirage2000       0.38      0.25      0.30        20\n",
      "          P3       0.72      0.65      0.68        20\n",
      "         RQ4       0.35      0.30      0.32        20\n",
      "      Rafale       0.33      0.35      0.34        20\n",
      "        SR71       0.27      0.40      0.32        10\n",
      "        Su24       0.38      0.15      0.21        20\n",
      "        Su25       0.20      0.05      0.08        20\n",
      "        Su34       0.72      0.65      0.68        20\n",
      "        Su57       0.57      0.20      0.30        20\n",
      "       TB001       0.33      0.20      0.25         5\n",
      "         TB2       0.88      0.75      0.81        20\n",
      "     Tornado       0.30      0.30      0.30        20\n",
      "       Tu160       0.29      0.30      0.29        20\n",
      "       Tu22M       0.23      0.30      0.26        10\n",
      "        Tu95       0.50      0.35      0.41        20\n",
      "          U2       0.42      0.50      0.45        10\n",
      "         US2       0.52      0.55      0.54        20\n",
      "         V22       0.43      0.50      0.47        20\n",
      "      Vulcan       0.43      0.45      0.44        20\n",
      "         WZ7       0.18      0.40      0.25         5\n",
      "        XB70       0.17      0.10      0.12        10\n",
      "         Y20       0.22      0.20      0.21        10\n",
      "        YF23       0.00      0.00      0.00         5\n",
      "\n",
      "    accuracy                           0.32      1006\n",
      "   macro avg       0.33      0.29      0.29      1006\n",
      "weighted avg       0.36      0.32      0.32      1006\n",
      "\n"
     ]
    },
    {
     "name": "stderr",
     "output_type": "stream",
     "text": [
      "/home/deepaksr/miniconda3/envs/cnn/lib/python3.12/site-packages/sklearn/metrics/_classification.py:1531: UndefinedMetricWarning: Precision is ill-defined and being set to 0.0 in labels with no predicted samples. Use `zero_division` parameter to control this behavior.\n",
      "  _warn_prf(average, modifier, f\"{metric.capitalize()} is\", len(result))\n",
      "/home/deepaksr/miniconda3/envs/cnn/lib/python3.12/site-packages/sklearn/metrics/_classification.py:1531: UndefinedMetricWarning: Precision is ill-defined and being set to 0.0 in labels with no predicted samples. Use `zero_division` parameter to control this behavior.\n",
      "  _warn_prf(average, modifier, f\"{metric.capitalize()} is\", len(result))\n",
      "/home/deepaksr/miniconda3/envs/cnn/lib/python3.12/site-packages/sklearn/metrics/_classification.py:1531: UndefinedMetricWarning: Precision is ill-defined and being set to 0.0 in labels with no predicted samples. Use `zero_division` parameter to control this behavior.\n",
      "  _warn_prf(average, modifier, f\"{metric.capitalize()} is\", len(result))\n",
      "/home/deepaksr/miniconda3/envs/cnn/lib/python3.12/site-packages/sklearn/metrics/_classification.py:1531: UndefinedMetricWarning: Precision is ill-defined and being set to 0.0 in labels with no predicted samples. Use `zero_division` parameter to control this behavior.\n",
      "  _warn_prf(average, modifier, f\"{metric.capitalize()} is\", len(result))\n"
     ]
    }
   ],
   "source": [
    "from sklearn.metrics import precision_score, accuracy_score, recall_score, f1_score, classification_report # type: ignore\n",
    "accuracy = accuracy_score(y_true,y_pred)\n",
    "precision = precision_score(y_true, y_pred, average='weighted')\n",
    "recall = recall_score(y_true, y_pred, average='weighted')\n",
    "f1 = f1_score(y_true, y_pred, average='weighted')\n",
    "print(f'Accuracy : {accuracy:.4f}')\n",
    "print(f'Precision : {precision:.4f}')\n",
    "print(f'Recall : {recall:.4f}')\n",
    "print(f'F1 Score : {f1:.4f}')\n",
    "print('Classification Report:\\n', classification_report(y_true, y_pred,target_names=test_generator.class_indices.keys()))\n"
   ]
  },
  {
   "cell_type": "code",
   "execution_count": 14,
   "metadata": {},
   "outputs": [
    {
     "name": "stdout",
     "output_type": "stream",
     "text": [
      "[[10  0  0 ...  0  0  0]\n",
      " [ 0  6  0 ...  1  0  0]\n",
      " [ 1  1  7 ...  0  0  0]\n",
      " ...\n",
      " [ 0  0  0 ...  1  0  0]\n",
      " [ 0  0  0 ...  0  2  1]\n",
      " [ 0  0  0 ...  0  0  0]]\n"
     ]
    }
   ],
   "source": [
    "from sklearn.metrics import confusion_matrix # type: ignore\n",
    "cm = confusion_matrix(y_true, y_pred)\n",
    "print(cm)"
   ]
  }
 ],
 "metadata": {
  "kernelspec": {
   "display_name": "cnn",
   "language": "python",
   "name": "python3"
  },
  "language_info": {
   "codemirror_mode": {
    "name": "ipython",
    "version": 3
   },
   "file_extension": ".py",
   "mimetype": "text/x-python",
   "name": "python",
   "nbconvert_exporter": "python",
   "pygments_lexer": "ipython3",
   "version": "3.12.5"
  }
 },
 "nbformat": 4,
 "nbformat_minor": 2
}
